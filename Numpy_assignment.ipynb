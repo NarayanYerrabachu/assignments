{
 "cells": [
  {
   "cell_type": "code",
   "execution_count": 3,
   "id": "494566d6",
   "metadata": {},
   "outputs": [
    {
     "name": "stdout",
     "output_type": "stream",
     "text": [
      "result:\n",
      " [  5.           4.66666667   5.66666667   6.66666667   9.66666667\n",
      "  28.66666667  49.33333333  72.66666667  84.          93.33333333\n",
      " 116.33333333]\n"
     ]
    }
   ],
   "source": [
    "#The moving average sequence has n-k+1 elements as shown below.\n",
    "import numpy as np\n",
    "\n",
    "\n",
    "def moving_average(input_,k):\n",
    "    val_=np.cumsum(input_,dtype=float)    \n",
    "    val_[k:]=val_[k:]-val_[:-k]\n",
    "    return val_[k-1:]/k\n",
    "\n",
    "\n",
    "list_ =[3, 5, 7, 2, 8, 10, 11, 65, 72, 81, 99, 100, 150]\n",
    "input_ = np.array(list_)\n",
    "    \n",
    "\n",
    "result=moving_average(input_,k=3)\n",
    "\n",
    "print(\"result:\\n\",result)"
   ]
  },
  {
   "cell_type": "code",
   "execution_count": null,
   "id": "c1473ce8",
   "metadata": {},
   "outputs": [],
   "source": []
  }
 ],
 "metadata": {
  "kernelspec": {
   "display_name": "Python 3",
   "language": "python",
   "name": "python3"
  },
  "language_info": {
   "codemirror_mode": {
    "name": "ipython",
    "version": 3
   },
   "file_extension": ".py",
   "mimetype": "text/x-python",
   "name": "python",
   "nbconvert_exporter": "python",
   "pygments_lexer": "ipython3",
   "version": "3.8.8"
  }
 },
 "nbformat": 4,
 "nbformat_minor": 5
}
