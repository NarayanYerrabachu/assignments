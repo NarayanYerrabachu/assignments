{
 "cells": [
  {
   "cell_type": "code",
   "execution_count": 16,
   "id": "4e47551c",
   "metadata": {},
   "outputs": [
    {
     "name": "stdout",
     "output_type": "stream",
     "text": [
      "Enter a Integer value :20\n",
      "Result : 210\n"
     ]
    }
   ],
   "source": [
    "#Write a Python Program to implement your own myreduce() function which works exactly like Python's built-in function reduce()\n",
    "\n",
    "def myreduce(num):\n",
    "    ''' It will return sum of the list, provided by given Integer'''\n",
    "    addList=0\n",
    "    for i in list(range(1,number+1)):\n",
    "        addList = addList + i\n",
    "        \n",
    "    return addList\n",
    "\n",
    "number=int(input(\"Enter a Integer value :\"))\n",
    "\n",
    "#result:\n",
    "\n",
    "result=myreduce(number)\n",
    "\n",
    "#Output\n",
    "print(\"Result :\",result)  "
   ]
  },
  {
   "cell_type": "code",
   "execution_count": 17,
   "id": "1a67f1a0",
   "metadata": {},
   "outputs": [
    {
     "name": "stdout",
     "output_type": "stream",
     "text": [
      "Enter a Integer value :20\n",
      "even : [2, 4, 6, 8, 10, 12, 14, 16, 18, 20]\n",
      "odd : [1, 3, 5, 7, 9, 11, 13, 15, 17, 19]\n"
     ]
    }
   ],
   "source": [
    "#1.2 Write a Python program to implement your own myfilter() function which works exactly like Python's built-in function filter()\n",
    "def myfilter(number):\n",
    "    return is_even(number)\n",
    "evenList=[]\n",
    "oddList=[]\n",
    "List=[]\n",
    "def is_even(a):\n",
    "    for i in list(range(1,number+1)):\n",
    "        if i%2==0:\n",
    "            evenList.append(i)\n",
    "        else:\n",
    "            oddList.append(i)\n",
    "    if len(evenList) > 0:\n",
    "        List.append(evenList)\n",
    "    \n",
    "    if len(oddList) > 0:\n",
    "        List.append(oddList)\n",
    "    return List\n",
    "    \n",
    "number=int(input(\"Enter a Integer value :\"))\n",
    "\n",
    "##Call function\n",
    "result= myfilter(number)\n",
    "#Output\n",
    "print(\"even :\",result[0]) \n",
    "print(\"odd :\",result[1])  "
   ]
  },
  {
   "cell_type": "code",
   "execution_count": 18,
   "id": "31d4459d",
   "metadata": {},
   "outputs": [
    {
     "name": "stdout",
     "output_type": "stream",
     "text": [
      "result_1: ['A', 'C', 'A', 'D', 'G', 'I', 'L', 'D']\n",
      "result_2: ['x', 'xx', 'xxx', 'xxxx', 'y', 'yy', 'yyy', 'yyyy', 'z', 'zz', 'zzz', 'zzzz']\n",
      "result_3: ['x', 'y', 'z', 'xx', 'yy', 'zz', 'xxx', 'yyy', 'zzz', 'xxxx', 'yyyy', 'zzzz']\n",
      "result_4: [[2], [3], [4], [3], [4], [5], [4], [5], [6]]\n",
      "result_5: [[2, 3, 4, 5], [3, 4, 5, 6], [4, 5, 6, 7], [5, 6, 7, 8]]\n",
      "result_6: [(1, 1), (2, 1), (3, 1), (1, 2), (2, 2), (3, 2), (1, 3), (2, 3), (3, 3)]\n"
     ]
    }
   ],
   "source": [
    "#Implement List comprehensions to produce the following lists. Write List comprehensions to produce the following List\n",
    "\n",
    "#Section 1\n",
    "case_1=\"AcadGild\"\n",
    "#list Comprehension\n",
    "result_1=[i.upper() for i in list(case_1)]\n",
    "print(\"result_1:\",result_1)\n",
    "\n",
    "#Section 2\n",
    "case_2=list('xyz')\n",
    "result_2=[j*n for j in case_2 for n in range(1,5) ]\n",
    "print(\"result_2:\",result_2)\n",
    "\n",
    "#Section 3\n",
    "result_3=[x*n for n in range(1,5) for x in case_2 ]\n",
    "print(\"result_3:\",result_3)\n",
    "\n",
    "#Section 4\n",
    "number=[2,3,4]\n",
    "result_4=[[x+n] for x in number for n in range(0,3)]\n",
    "print(\"result_4:\",result_4)\n",
    "\n",
    "#Section 5\n",
    "number_2=[2,3,4,5]\n",
    "result_5=[[x+n for n in range(0,4)] for x in number_2 ]\n",
    "print(\"result_5:\",result_5)\n",
    "\n",
    "#Section 6\n",
    "number_4=[1,2,3]\n",
    "result_6= [(b,a) for a in number_4 for b in number_4]\n",
    "print(\"result_6:\",result_6)\n"
   ]
  },
  {
   "cell_type": "code",
   "execution_count": null,
   "id": "beac3f5a",
   "metadata": {},
   "outputs": [],
   "source": []
  }
 ],
 "metadata": {
  "kernelspec": {
   "display_name": "Python 3",
   "language": "python",
   "name": "python3"
  },
  "language_info": {
   "codemirror_mode": {
    "name": "ipython",
    "version": 3
   },
   "file_extension": ".py",
   "mimetype": "text/x-python",
   "name": "python",
   "nbconvert_exporter": "python",
   "pygments_lexer": "ipython3",
   "version": "3.8.8"
  }
 },
 "nbformat": 4,
 "nbformat_minor": 5
}
